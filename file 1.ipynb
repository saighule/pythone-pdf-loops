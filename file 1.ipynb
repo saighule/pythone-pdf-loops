{
 "cells": [
  {
   "cell_type": "code",
   "execution_count": 9,
   "id": "44c5c3d3-a989-450a-8b6c-e28fcede9d0f",
   "metadata": {},
   "outputs": [
    {
     "name": "stdin",
     "output_type": "stream",
     "text": [
      "Enter a number:  5\n"
     ]
    },
    {
     "name": "stdout",
     "output_type": "stream",
     "text": [
      "Multiplication Table for 5\n",
      "5 x 1 = 5\n",
      "5 x 2 = 10\n",
      "5 x 3 = 15\n",
      "5 x 4 = 20\n",
      "5 x 5 = 25\n",
      "5 x 6 = 30\n",
      "5 x 7 = 35\n",
      "5 x 8 = 40\n",
      "5 x 9 = 45\n",
      "5 x 10 = 50\n"
     ]
    }
   ],
   "source": [
    "# Multiplication Table Generator\n",
    "number = int(input(\"Enter a number: \"))\n",
    "print(f\"Multiplication Table for {number}\")\n",
    "for i in range(1, 11):\n",
    "    print(f\"{number} x {i} = {number * i}\")\n"
   ]
  },
  {
   "cell_type": "code",
   "execution_count": 3,
   "id": "450fa94c-41af-4da8-a85f-8b1ace0d9734",
   "metadata": {},
   "outputs": [
    {
     "name": "stdin",
     "output_type": "stream",
     "text": [
      "Enter the number of rows:  4\n"
     ]
    },
    {
     "name": "stdout",
     "output_type": "stream",
     "text": [
      "   *\n",
      "  ***\n",
      " *****\n",
      "*******\n"
     ]
    }
   ],
   "source": [
    "# Pyramid Pattern\n",
    "rows = int(input(\"Enter the number of rows: \"))\n",
    "for i in range(1, rows + 1):\n",
    "    print(\" \" * (rows - i) + \"*\" * (2 * i - 1))\n",
    "\n"
   ]
  },
  {
   "cell_type": "code",
   "execution_count": 4,
   "id": "a3228ca2-6aef-4e36-b41e-4f01dc031271",
   "metadata": {},
   "outputs": [
    {
     "name": "stdin",
     "output_type": "stream",
     "text": [
      "Enter a number:  5\n"
     ]
    },
    {
     "name": "stdout",
     "output_type": "stream",
     "text": [
      "5 is a prime number.\n"
     ]
    }
   ],
   "source": [
    "# Prime Number Checker\n",
    "number = int(input(\"Enter a number: \"))\n",
    "is_prime = True\n",
    "if number > 1:\n",
    "    for i in range(2, int(number ** 0.5) + 1):\n",
    "        if number % i == 0:\n",
    "            is_prime = False\n",
    "            break\n",
    "else:\n",
    "    is_prime = False\n",
    "\n",
    "if is_prime:\n",
    "    print(f\"{number} is a prime number.\")\n",
    "else:\n",
    "    print(f\"{number} is not a prime number.\")\n",
    "\n"
   ]
  },
  {
   "cell_type": "code",
   "execution_count": 7,
   "id": "54a68264-f52c-4fe3-9a80-736ba9014e6e",
   "metadata": {},
   "outputs": [
    {
     "name": "stdin",
     "output_type": "stream",
     "text": [
      "Enter a number:  4\n"
     ]
    },
    {
     "name": "stdout",
     "output_type": "stream",
     "text": [
      "The factorial of 4 is 24.\n"
     ]
    }
   ],
   "source": [
    "# Factorial Calculator\n",
    "number = int(input(\"Enter a number: \"))\n",
    "factorial = 1\n",
    "for i in range(1, number + 1):\n",
    "    factorial *= i\n",
    "print(f\"The factorial of {number} is {factorial}.\")\n"
   ]
  },
  {
   "cell_type": "code",
   "execution_count": 6,
   "id": "3af98c6d-dc54-45b2-8fa1-6eb812c9c420",
   "metadata": {},
   "outputs": [
    {
     "name": "stdout",
     "output_type": "stream",
     "text": [
      "\n",
      "Menu:\n",
      "1. Say Hello\n",
      "2. Add Two Numbers\n",
      "3. Exit\n"
     ]
    },
    {
     "name": "stdin",
     "output_type": "stream",
     "text": [
      "Enter your choice:  2\n",
      "Enter first number:  3\n",
      "Enter second number:  4\n"
     ]
    },
    {
     "name": "stdout",
     "output_type": "stream",
     "text": [
      "The sum is 7.\n",
      "\n",
      "Menu:\n",
      "1. Say Hello\n",
      "2. Add Two Numbers\n",
      "3. Exit\n"
     ]
    },
    {
     "name": "stdin",
     "output_type": "stream",
     "text": [
      "Enter your choice:  3\n"
     ]
    },
    {
     "name": "stdout",
     "output_type": "stream",
     "text": [
      "Goodbye!\n"
     ]
    }
   ],
   "source": [
    "# Interactive Menu\n",
    "while True:\n",
    "    print(\"\\nMenu:\")\n",
    "    print(\"1. Say Hello\")\n",
    "    print(\"2. Add Two Numbers\")\n",
    "    print(\"3. Exit\")\n",
    "    choice = int(input(\"Enter your choice: \"))\n",
    "\n",
    "    if choice == 1:\n",
    "        print(\"Hello!\")\n",
    "    elif choice == 2:\n",
    "        a = int(input(\"Enter first number: \"))\n",
    "        b = int(input(\"Enter second number: \"))\n",
    "        print(f\"The sum is {a + b}.\")\n",
    "    elif choice == 3:\n",
    "        print(\"Goodbye!\")\n",
    "        break\n",
    "    else:\n",
    "        print(\"Invalid choice. Please try again.\")\n",
    "\n"
   ]
  },
  {
   "cell_type": "code",
   "execution_count": 11,
   "id": "1c3eeaa2-8584-4523-996a-cb30a9410577",
   "metadata": {},
   "outputs": [
    {
     "name": "stdin",
     "output_type": "stream",
     "text": [
      "Enter the number of terms:  9\n"
     ]
    },
    {
     "name": "stdout",
     "output_type": "stream",
     "text": [
      "Fibonacci Sequence:\n",
      "0 1 1 2 3 5 8 13 21 "
     ]
    }
   ],
   "source": [
    "# Fibonacci Sequence Generator\n",
    "terms = int(input(\"Enter the number of terms: \"))\n",
    "a, b = 0, 1\n",
    "print(\"Fibonacci Sequence:\")\n",
    "for _ in range(terms):\n",
    "    print(a, end=\" \")\n",
    "    a, b = b, a + b\n",
    "\n"
   ]
  },
  {
   "cell_type": "code",
   "execution_count": 14,
   "id": "8f2620c6-b6c0-4e1c-b1b3-e13974a8649d",
   "metadata": {},
   "outputs": [
    {
     "name": "stdout",
     "output_type": "stream",
     "text": [
      "List: [1, 4, 4, 7, 8, 4, 9, 2]\n",
      "Sum of elements: 39\n",
      "Maximum element: 9\n",
      "Frequency of 4: 3\n"
     ]
    }
   ],
   "source": [
    "# Sum, Max, and Frequency in a List\n",
    "numbers = [1, 4, 4, 7, 8, 4, 9, 2]\n",
    "print(\"List:\", numbers)\n",
    "print(\"Sum of elements:\", sum(numbers))\n",
    "print(\"Maximum element:\", max(numbers))\n",
    "freq = numbers.count(4)\n",
    "print(\"Frequency of 4:\", freq)"
   ]
  },
  {
   "cell_type": "code",
   "execution_count": null,
   "id": "6550f9d7-8a3c-4d35-8501-88fddf42f74f",
   "metadata": {},
   "outputs": [],
   "source": []
  }
 ],
 "metadata": {
  "kernelspec": {
   "display_name": "Python 3 (ipykernel)",
   "language": "python",
   "name": "python3"
  },
  "language_info": {
   "codemirror_mode": {
    "name": "ipython",
    "version": 3
   },
   "file_extension": ".py",
   "mimetype": "text/x-python",
   "name": "python",
   "nbconvert_exporter": "python",
   "pygments_lexer": "ipython3",
   "version": "3.12.4"
  }
 },
 "nbformat": 4,
 "nbformat_minor": 5
}
